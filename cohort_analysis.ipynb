{
 "cells": [
  {
   "cell_type": "markdown",
   "metadata": {},
   "source": [
    "# I2B2"
   ]
  },
  {
   "cell_type": "code",
   "execution_count": 6,
   "metadata": {},
   "outputs": [
    {
     "name": "stdout",
     "output_type": "stream",
     "text": [
      "nrel before flipped: 32508\n",
      "unique markers:{'FREQUENCY', 'TEST', 'ADMISSION', 'OCCURRENCE', 'CLINICAL_DEPT', 'DISCHARGE', 'PROBLEM', 'DURATION', 'TREATMENT', 'TIME', 'EVIDENTIAL', 'DATE'}(12)\n",
      "unique labels:{'OVERLAP', 'AFTER', 'BEFORE'}(3)\n",
      "nrel before flipped: 1259\n",
      "unique markers:{'FREQUENCY', 'TEST', 'ADMISSION', 'OCCURRENCE', 'CLINICAL_DEPT', 'DISCHARGE', 'PROBLEM', 'TREATMENT', 'DURATION', 'TIME', 'EVIDENTIAL', 'DATE'}(12)\n",
      "unique labels:{'OVERLAP', 'AFTER', 'BEFORE'}(3)\n",
      "nrel before flipped: 27735\n",
      "unique markers:{'', 'FREQUENCY', 'TEST', 'ADMISSION', 'OCCURRENCE', 'CLINICAL_DEPT', 'DISCHARGE', 'PROBLEM', 'TREATMENT', 'DURATION', 'TIME', 'EVIDENTIAL', 'DATE'}(13)\n",
      "unique labels:{'OVERLAP', 'AFTER', 'BEFORE'}(3)\n"
     ]
    }
   ],
   "source": [
    "import os, re\n",
    "import pandas as pd\n",
    "from const import SEEDS, MARKERS_I2B2, MODELS, CONTEXT_WINDOWS, LRS, SEEDS\n",
    "from relation.utils import generate_temp_relation_data\n",
    "\n",
    "# if __name__ == \"__main__\":\n",
    "    # parser = argparse.ArgumentParser()\n",
    "    # parser.add_argument('--prediction_file', type=str, default=None, required=True)\n",
    "    # args = parser.parse_args()\n",
    "\n",
    "task=\"i2b2\"\n",
    "num_train_epochs=10\n",
    "i2b2_dataset=\"i2b2_data/relations_more_link_with_so\"\n",
    "test_xml_dir = \"preprocess/corpus/i2b2/ground_truth/merged_xml\"\n",
    "\n",
    "MARKERS_I2B2=[\"ner_plus_time\"]\n",
    "MODELS=[\"bert-base-uncased\"]\n",
    "CONTEXT_WINDOWS=[0]\n",
    "LRS=[1e-5]\n",
    "SEEDS=[1]\n",
    "\n",
    "                    \n",
    "file_types = [\"train\", \"dev\", \"test\"] \n",
    "marker = \"ner_plus_time\" \n",
    "context_window=0\n",
    " \n",
    "label_types = ['BEFORE', 'AFTER', 'OVERLAP']   \n",
    "type_label_dict = {file_type:{label_type:0 for label_type in label_types} for file_type in file_types}           \n",
    "for ftype in file_types:                   \n",
    "    # NOTE: get unaugmented_ids\n",
    "    test_dataset, test_examples, _ = generate_temp_relation_data(os.path.join(i2b2_dataset, f\"{ftype}.json\"), entity_type=marker, use_gold=True, context_window=context_window)\n",
    "    unaugmented_ids = []\n",
    "    unaugmented_examples = []\n",
    "    # get all unaugmented examples\n",
    "    for i, ex in enumerate(test_examples):\n",
    "        if 'flipped' not in ex['lid']:\n",
    "            unaugmented_ids.append(i)\n",
    "            unaugmented_examples.append(ex)\n",
    "    types = []\n",
    "\n",
    "    rels = []\n",
    "    for i, ex in enumerate(unaugmented_examples):\n",
    "        if ex['relation']==\"SIMULTANEOUS\":\n",
    "            import pdb\n",
    "            pdb.set_trace()\n",
    "        #or ex['obj_type']==\"\": break\n",
    "        \n",
    "        types.append(ex['subj_type'])\n",
    "        types.append(ex['obj_type'])\n",
    "        rels.append(ex['relation'])\n",
    "        type_label_dict[ftype][ex['relation']] += 1\n",
    "        \n",
    "    print(\"unique markers:{}({})\".format(set(types), len(set(types))))\n",
    "    # DEBUG: Admission/discharge not here, why?????\n",
    "    print(\"unique labels:{}({})\".format(set(rels), len(set(rels))))\n",
    "                    "
   ]
  },
  {
   "cell_type": "code",
   "execution_count": 7,
   "metadata": {},
   "outputs": [],
   "source": [
    "df1 = pd.DataFrame.from_dict(type_label_dict)\n"
   ]
  },
  {
   "cell_type": "code",
   "execution_count": 10,
   "metadata": {},
   "outputs": [
    {
     "data": {
      "text/html": [
       "<div>\n",
       "<style scoped>\n",
       "    .dataframe tbody tr th:only-of-type {\n",
       "        vertical-align: middle;\n",
       "    }\n",
       "\n",
       "    .dataframe tbody tr th {\n",
       "        vertical-align: top;\n",
       "    }\n",
       "\n",
       "    .dataframe thead th {\n",
       "        text-align: right;\n",
       "    }\n",
       "</style>\n",
       "<table border=\"1\" class=\"dataframe\">\n",
       "  <thead>\n",
       "    <tr style=\"text-align: right;\">\n",
       "      <th></th>\n",
       "      <th>train</th>\n",
       "      <th>dev</th>\n",
       "      <th>test</th>\n",
       "    </tr>\n",
       "  </thead>\n",
       "  <tbody>\n",
       "    <tr>\n",
       "      <th>BEFORE</th>\n",
       "      <td>17026</td>\n",
       "      <td>603</td>\n",
       "      <td>15113</td>\n",
       "    </tr>\n",
       "    <tr>\n",
       "      <th>AFTER</th>\n",
       "      <td>3093</td>\n",
       "      <td>130</td>\n",
       "      <td>2729</td>\n",
       "    </tr>\n",
       "    <tr>\n",
       "      <th>OVERLAP</th>\n",
       "      <td>12313</td>\n",
       "      <td>526</td>\n",
       "      <td>9893</td>\n",
       "    </tr>\n",
       "  </tbody>\n",
       "</table>\n",
       "</div>"
      ],
      "text/plain": [
       "         train  dev   test\n",
       "BEFORE   17026  603  15113\n",
       "AFTER     3093  130   2729\n",
       "OVERLAP  12313  526   9893"
      ]
     },
     "execution_count": 10,
     "metadata": {},
     "output_type": "execute_result"
    }
   ],
   "source": [
    "df1\n"
   ]
  },
  {
   "attachments": {},
   "cell_type": "markdown",
   "metadata": {},
   "source": [
    "ex:\n",
    "ignore some cases when type is 0:\n",
    "{'docid': '222',\n",
    " 'id': '222@105::(287,288)-(282,283)',\n",
    " 'lid': 'TL57',\n",
    " 'relation': 'OVERLAP',\n",
    " 'subj_start': 14,\n",
    " 'subj_end': 15,\n",
    " 'subj_type': 'TREATMENT',\n",
    " 'obj_start': 9,\n",
    " 'obj_end': 10,\n",
    " 'obj_type': '',\n",
    " 'token': ['In',\n",
    "  'Monica',\n",
    "  ',',\n",
    "  'pt',\n",
    "  'received',\n",
    "  'charcoal',\n",
    "  ',',\n",
    "  '500',\n",
    "  'mg',\n",
    "  'IV',\n",
    "  'levofloxacin',\n",
    "  ',',\n",
    "  '500',\n",
    "  'mg',\n",
    "  'IV',\n",
    "  'metronidazole',\n",
    "  'for',\n",
    "  'presumed',\n",
    "  'aspiration',\n",
    "  'pna',\n",
    "  '.'],\n",
    " 'sent_start': 0,\n",
    " 'sent_end': 21}\n"
   ]
  },
  {
   "cell_type": "markdown",
   "metadata": {},
   "source": [
    "# TBD"
   ]
  },
  {
   "cell_type": "code",
   "execution_count": 14,
   "metadata": {},
   "outputs": [
    {
     "name": "stdout",
     "output_type": "stream",
     "text": [
      "train********************:pos\n",
      "nrel before flipped: 4032\n",
      "unique markers:{'NOUN', 'OTHER', 'ADJECTIVE', 'VERB', 'PREPOSITION'}(5)\n",
      "unique labels:{'SIMULTANEOUS', 'BEFORE', 'IS_INCLUDED', 'VAGUE', 'AFTER', 'INCLUDES'}(6)\n",
      "dev********************:pos\n",
      "nrel before flipped: 629\n",
      "unique markers:{'VERB', 'NOUN', 'ADJECTIVE'}(3)\n",
      "unique labels:{'SIMULTANEOUS', 'BEFORE', 'IS_INCLUDED', 'VAGUE', 'AFTER', 'INCLUDES'}(6)\n",
      "test********************:pos\n",
      "nrel before flipped: 1427\n",
      "unique markers:{'VERB', 'NOUN', 'ADJECTIVE'}(3)\n",
      "unique labels:{'SIMULTANEOUS', 'BEFORE', 'IS_INCLUDED', 'VAGUE', 'AFTER', 'INCLUDES'}(6)\n",
      "train********************:pos_tense\n",
      "nrel before flipped: 4032\n",
      "unique markers:{'NOUN:PRESENT', 'VERB:PRESPART', 'NOUN:INFINITIVE', 'VERB:NONE', 'ADJECTIVE:PAST', 'VERB:PRESENT', 'VERB:PAST', 'NOUN:NONE', 'VERB:FUTURE', 'ADJECTIVE:PRESENT', 'VERB:PASTPART', 'ADJECTIVE:INFINITIVE', 'VERB:INFINITIVE', 'OTHER:PRESENT', 'ADJECTIVE:NONE', 'OTHER:PAST', 'PREPOSITION:PRESENT', 'NOUN:PAST'}(18)\n",
      "unique labels:{'SIMULTANEOUS', 'BEFORE', 'IS_INCLUDED', 'VAGUE', 'AFTER', 'INCLUDES'}(6)\n",
      "dev********************:pos_tense\n",
      "nrel before flipped: 629\n",
      "unique markers:{'VERB:PRESPART', 'VERB:NONE', 'ADJECTIVE:PAST', 'VERB:PRESENT', 'NOUN:NONE', 'VERB:PAST', 'VERB:FUTURE', 'ADJECTIVE:PRESENT', 'VERB:PASTPART', 'VERB:INFINITIVE', 'ADJECTIVE:NONE'}(11)\n",
      "unique labels:{'SIMULTANEOUS', 'BEFORE', 'IS_INCLUDED', 'VAGUE', 'AFTER', 'INCLUDES'}(6)\n",
      "test********************:pos_tense\n",
      "nrel before flipped: 1427\n",
      "unique markers:{'NOUN:PRESENT', 'VERB:PRESPART', 'VERB:NONE', 'ADJECTIVE:PAST', 'VERB:PRESENT', 'NOUN:NONE', 'VERB:PAST', 'VERB:FUTURE', 'VERB:PASTPART', 'ADJECTIVE:PRESENT', 'VERB:INFINITIVE'}(11)\n",
      "unique labels:{'SIMULTANEOUS', 'BEFORE', 'IS_INCLUDED', 'VAGUE', 'AFTER', 'INCLUDES'}(6)\n",
      "train********************:pos_tense_polarity\n",
      "nrel before flipped: 4032\n",
      "unique markers:{'NOUN:PRESENT:POS', 'VERB:NONE:NEG', 'VERB:NONE:POS', 'VERB:PRESPART:NEG', 'OTHER:PAST:POS', 'VERB:PASTPART:POS', 'NOUN:NONE:POS', 'OTHER:PRESENT:POS', 'NOUN:PAST:NEG', 'VERB:PAST:NEG', 'ADJECTIVE:PAST:NEG', 'NOUN:PRESENT:NEG', 'ADJECTIVE:INFINITIVE:POS', 'VERB:PAST:POS', 'VERB:PRESPART:POS', 'VERB:FUTURE:NEG', 'ADJECTIVE:NONE:POS', 'NOUN:INFINITIVE:POS', 'PREPOSITION:PRESENT:POS', 'ADJECTIVE:PRESENT:NEG', 'VERB:PASTPART:NEG', 'VERB:PRESENT:POS', 'ADJECTIVE:PRESENT:POS', 'VERB:FUTURE:POS', 'NOUN:PAST:POS', 'NOUN:NONE:NEG', 'ADJECTIVE:PAST:POS', 'VERB:INFINITIVE:POS', 'VERB:PRESENT:NEG'}(29)\n",
      "unique labels:{'SIMULTANEOUS', 'BEFORE', 'IS_INCLUDED', 'VAGUE', 'AFTER', 'INCLUDES'}(6)\n",
      "dev********************:pos_tense_polarity\n",
      "nrel before flipped: 629\n",
      "unique markers:{'ADJECTIVE:PRESENT:POS', 'VERB:NONE:POS', 'VERB:PAST:NEG', 'VERB:FUTURE:POS', 'NOUN:NONE:POS', 'ADJECTIVE:PAST:POS', 'VERB:INFINITIVE:POS', 'VERB:PASTPART:POS', 'VERB:PAST:POS', 'VERB:PRESPART:POS', 'VERB:PRESENT:NEG', 'ADJECTIVE:NONE:POS', 'VERB:PRESENT:POS'}(13)\n",
      "unique labels:{'SIMULTANEOUS', 'BEFORE', 'IS_INCLUDED', 'VAGUE', 'AFTER', 'INCLUDES'}(6)\n",
      "test********************:pos_tense_polarity\n",
      "nrel before flipped: 1427\n",
      "unique markers:{'VERB:INFINITIVE:NEG', 'VERB:NONE:NEG', 'ADJECTIVE:PRESENT:POS', 'VERB:NONE:POS', 'VERB:PAST:NEG', 'VERB:FUTURE:POS', 'NOUN:NONE:NEG', 'VERB:PASTPART:NEG', 'ADJECTIVE:PAST:POS', 'VERB:INFINITIVE:POS', 'NOUN:PRESENT:NEG', 'ADJECTIVE:PRESENT:NEG', 'VERB:PASTPART:POS', 'VERB:PAST:POS', 'VERB:PRESPART:POS', 'VERB:PRESENT:NEG', 'VERB:PRESENT:POS', 'NOUN:NONE:POS'}(18)\n",
      "unique labels:{'SIMULTANEOUS', 'BEFORE', 'IS_INCLUDED', 'VAGUE', 'AFTER', 'INCLUDES'}(6)\n"
     ]
    }
   ],
   "source": [
    "task=\"i2b2\"\n",
    "num_train_epochs=10\n",
    "tbd_data_dir=\"tbd_data/relations\"\n",
    "test_xml_dir = \"preprocess/corpus/i2b2/ground_truth/merged_xml\"\n",
    "\n",
    "MARKERS_I2B2=[\"ner_plus_time\"]\n",
    "MODELS=[\"bert-base-uncased\"]\n",
    "CONTEXT_WINDOWS=[0]\n",
    "LRS=[1e-5]\n",
    "SEEDS=[1]\n",
    "\n",
    "                    \n",
    "file_types = [\"train\", \"dev\", \"test\"] \n",
    "MARKERS_TBD = ['pos', 'pos_tense', 'pos_tense_polarity']\n",
    "\n",
    "\n",
    "context_window=0\n",
    "label_types = ['BEFORE', 'AFTER', 'SIMULTANEOUS',  'INCLUDES','IS_INCLUDED', 'VAGUE']   \n",
    "\n",
    "type_label_dict = {file_type:{label_type:0 for label_type in label_types} for file_type in file_types}   \n",
    "for marker in MARKERS_TBD:                \n",
    "    for ftype in file_types:    \n",
    "        \n",
    "  \n",
    "        print(f\"{ftype}********************:{marker}\")           \n",
    "    \n",
    "        # NOTE: get unaugmented_ids\n",
    "        test_dataset, test_examples, _ = generate_temp_relation_data(os.path.join(tbd_data_dir, f\"{ftype}.json\"), entity_type=marker, use_gold=True, context_window=context_window)\n",
    "        unaugmented_ids = []\n",
    "        unaugmented_examples = []\n",
    "        # get all unaugmented examples\n",
    "        for i, ex in enumerate(test_examples):\n",
    "            if 'flipped' not in ex['lid']:\n",
    "                unaugmented_ids.append(i)\n",
    "                unaugmented_examples.append(ex)\n",
    "        types = []\n",
    "\n",
    "        rels = []\n",
    "        for i, ex in enumerate(unaugmented_examples):\n",
    "            # if ex['relation']==\"SIMULTANEOUS\":\n",
    "            #     import pdb\n",
    "            #     pdb.set_trace()\n",
    "            #or ex['obj_type']==\"\": break\n",
    "            \n",
    "            types.append(ex['subj_type'])\n",
    "            types.append(ex['obj_type'])\n",
    "            rels.append(ex['relation'])\n",
    "            type_label_dict[ftype][ex['relation']] += 1\n",
    "\n",
    "        print(\"unique markers:{}({})\".format(set(types), len(set(types))))\n",
    "        # DEBUG: Admission/discharge not here, why?????\n",
    "        print(\"unique labels:{}({})\".format(set(rels), len(set(rels))))"
   ]
  },
  {
   "cell_type": "code",
   "execution_count": 23,
   "metadata": {},
   "outputs": [
    {
     "data": {
      "text/plain": [
       "BEFORE          0.221419\n",
       "AFTER           0.183968\n",
       "SIMULTANEOUS    0.015276\n",
       "INCLUDES        0.045335\n",
       "IS_INCLUDED     0.056997\n",
       "VAGUE           0.477004\n",
       "dtype: float64"
      ]
     },
     "execution_count": 23,
     "metadata": {},
     "output_type": "execute_result"
    }
   ],
   "source": [
    "df2 = pd.DataFrame.from_dict(type_label_dict)\n",
    "df2.sum(axis=1)/df2.sum(axis=1).sum()\n"
   ]
  },
  {
   "cell_type": "code",
   "execution_count": 27,
   "metadata": {},
   "outputs": [
    {
     "data": {
      "text/plain": [
       "99.9"
      ]
     },
     "execution_count": 27,
     "metadata": {},
     "output_type": "execute_result"
    }
   ],
   "source": [
    "47.7+18.4+4.5+1.5+5.7+22.1"
   ]
  },
  {
   "cell_type": "code",
   "execution_count": 22,
   "metadata": {},
   "outputs": [
    {
     "data": {
      "text/plain": [
       "BEFORE     0.533032\n",
       "AFTER      0.096897\n",
       "OVERLAP    0.370071\n",
       "dtype: float64"
      ]
     },
     "execution_count": 22,
     "metadata": {},
     "output_type": "execute_result"
    }
   ],
   "source": [
    "df1.sum(axis=1)/df1.sum(axis=1).sum()"
   ]
  },
  {
   "cell_type": "code",
   "execution_count": null,
   "metadata": {},
   "outputs": [
    {
     "name": "stdout",
     "output_type": "stream",
     "text": [
      "{'VERB:PRESPART:POS', 'VERB:FUTURE:POS', 'VERB:PRESENT:NEG', 'VERB:PRESENT:POS', 'ADJECTIVE:PRESENT:POS', 'VERB:NONE:POS', 'VERB:NONE:NEG', 'NOUN:PRESENT:NEG', 'ADJECTIVE:PAST:POS', 'VERB:PASTPART:POS', 'NOUN:NONE:NEG', 'VERB:INFINITIVE:NEG', 'ADJECTIVE:PRESENT:NEG', 'VERB:INFINITIVE:POS', 'NOUN:NONE:POS', 'VERB:PASTPART:NEG', 'VERB:PAST:NEG', 'VERB:PAST:POS'}\n",
      "{'SIMULTANEOUS', 'BEFORE', 'AFTER', 'INCLUDES', 'IS_INCLUDED', 'VAGUE'}\n"
     ]
    }
   ],
   "source": [
    "types = []\n",
    "rels = []\n",
    "for i, ex in enumerate(unaugmented_examples):\n",
    "    types.append(ex['subj_type'])\n",
    "    types.append(ex['obj_type'])\n",
    "    rels.append(ex['relation'])\n",
    "    \n",
    "print(set(types))\n",
    "# DEBUG: Admission/discharge not here, why?????\n",
    "print(set(rels))\n",
    "\n",
    "\n"
   ]
  },
  {
   "cell_type": "code",
   "execution_count": null,
   "metadata": {},
   "outputs": [
    {
     "name": "stdout",
     "output_type": "stream",
     "text": [
      "counter Counter({'BEFORE': 15113, 'OVERLAP': 9893, 'AFTER': 2729})\n",
      "perc counter: {'OVERLAP': 0.3566973138633496, 'BEFORE': 0.5449071570218136, 'AFTER': 0.09839552911483684}\n"
     ]
    }
   ],
   "source": [
    "from collections import Counter\n",
    "counter = Counter(rels)\n",
    "print(\"counter\", counter)\n",
    "perc_counter = {k:v/len(rels) for k, v in counter.items()}\n",
    "print(f\"perc counter: {perc_counter}\")"
   ]
  },
  {
   "cell_type": "code",
   "execution_count": null,
   "metadata": {},
   "outputs": [
    {
     "data": {
      "text/plain": [
       "'NOUN:NONE:POS'"
      ]
     },
     "execution_count": 5,
     "metadata": {},
     "output_type": "execute_result"
    }
   ],
   "source": [
    "ex['subj_type']"
   ]
  },
  {
   "cell_type": "code",
   "execution_count": null,
   "metadata": {},
   "outputs": [
    {
     "data": {
      "text/plain": [
       "'NOUN:NONE:POS'"
      ]
     },
     "execution_count": 6,
     "metadata": {},
     "output_type": "execute_result"
    }
   ],
   "source": [
    "ex['obj_type']"
   ]
  },
  {
   "cell_type": "code",
   "execution_count": null,
   "metadata": {},
   "outputs": [],
   "source": []
  }
 ],
 "metadata": {
  "kernelspec": {
   "display_name": "py38",
   "language": "python",
   "name": "python3"
  },
  "language_info": {
   "codemirror_mode": {
    "name": "ipython",
    "version": 3
   },
   "file_extension": ".py",
   "mimetype": "text/x-python",
   "name": "python",
   "nbconvert_exporter": "python",
   "pygments_lexer": "ipython3",
   "version": "3.8.16"
  },
  "orig_nbformat": 4
 },
 "nbformat": 4,
 "nbformat_minor": 2
}
